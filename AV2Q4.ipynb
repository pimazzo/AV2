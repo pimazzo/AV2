{
 "cells": [
  {
   "cell_type": "markdown",
   "metadata": {},
   "source": [
    "![alt text](q4.png)"
   ]
  },
  {
   "cell_type": "code",
   "execution_count": 3,
   "metadata": {},
   "outputs": [
    {
     "name": "stdout",
     "output_type": "stream",
     "text": [
      "Coordenadas cartesianas: x = 0.5253219888177297, y = 0.8509035245341184\n"
     ]
    }
   ],
   "source": [
    "import math\n",
    "\n",
    "def polar_to_cartesian(r, theta):\n",
    "\n",
    "    x = r * math.cos(theta)\n",
    "    y = r * math.sin(theta)\n",
    "    return x, y\n",
    "\n",
    "# Exemplo de uso\n",
    "r = float(input(\"Digite o valor do raio (r): \"))\n",
    "theta = float (input(\"Digite o valor do angulo em graus: \")) \n",
    "angulo_rad = math.radians(theta) # 45 graus em radianos\n",
    "x, y = polar_to_cartesian(r, theta)\n",
    "print(f\"Coordenadas cartesianas: x = {x}, y = {y}\")"
   ]
  },
  {
   "cell_type": "markdown",
   "metadata": {},
   "source": [
    "![alt text](Fluxo2d.png)"
   ]
  }
 ],
 "metadata": {
  "kernelspec": {
   "display_name": "base",
   "language": "python",
   "name": "python3"
  },
  "language_info": {
   "codemirror_mode": {
    "name": "ipython",
    "version": 3
   },
   "file_extension": ".py",
   "mimetype": "text/x-python",
   "name": "python",
   "nbconvert_exporter": "python",
   "pygments_lexer": "ipython3",
   "version": "3.12.7"
  }
 },
 "nbformat": 4,
 "nbformat_minor": 2
}
