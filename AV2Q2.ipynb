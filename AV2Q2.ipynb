{
 "cells": [
  {
   "cell_type": "markdown",
   "metadata": {},
   "source": [
    "![alt text](q2.png)"
   ]
  },
  {
   "cell_type": "code",
   "execution_count": 37,
   "metadata": {},
   "outputs": [
    {
     "name": "stdout",
     "output_type": "stream",
     "text": [
      "\n",
      "Posições do projétil:\n",
      "Tempo (s)\tPosição X (m)\tPosição Y (m)\n",
      "7.21\t\t254.84\t\t-0.00\n"
     ]
    }
   ],
   "source": [
    "import math\n",
    "\n",
    "# Constantes\n",
    "g = 9.81  # Aceleração gravitacional (m/s^2)\n",
    "\n",
    "# Entrada do usuário\n",
    "v0 = float(input(\"Digite a velocidade inicial do projétil (m/s): \"))\n",
    "angulo = float(input(\"Digite o ângulo de lançamento (graus): \"))\n",
    "\n",
    "# Conversão do ângulo para radianos\n",
    "angulo_rad = math.radians(angulo)\n",
    "\n",
    "# Componentes da velocidade inicial\n",
    "v0x = v0 * math.cos(angulo_rad)\n",
    "v0y = v0 * math.sin(angulo_rad)\n",
    "\n",
    "# Tempo total de voo\n",
    "tempo_voo = (2 * v0y) / g\n",
    "\n",
    "# Intervalo de tempo para o cálculo iterativo\n",
    "delta_t = 0.0001  # Pequeno intervalo de tempo (s)\n",
    "\n",
    "# Cálculo iterativo das posições\n",
    "t = 0\n",
    "x = 0\n",
    "y = 0\n",
    "\n",
    "print(\"\\nPosições do projétil:\")\n",
    "print(\"Tempo (s)\\tPosição X (m)\\tPosição Y (m)\")\n",
    "\n",
    "while y >= 0:\n",
    "    x = v0x * t\n",
    "    y = v0y * t - 0.5 * g * t**2\n",
    "    t += delta_t\n",
    "print(f\"{t:.2f}\\t\\t{x:.2f}\\t\\t{y:.2f}\")\n"
   ]
  },
  {
   "cell_type": "markdown",
   "metadata": {},
   "source": [
    "![alt text](fluxoq2a.png)"
   ]
  },
  {
   "cell_type": "markdown",
   "metadata": {},
   "source": [
    "Item B \n"
   ]
  },
  {
   "cell_type": "code",
   "execution_count": null,
   "metadata": {},
   "outputs": [
    {
     "name": "stdout",
     "output_type": "stream",
     "text": [
      "\n",
      "Trajetória do projétil 1 (ângulo: 45.0 graus):\n",
      "Tempo (s)\tTrajetória 1 (X, Y)\t\tTrajetória 2 (X, Y)\n",
      "7.21\t\t(254.84, -0.00)\t\t(180.20, 57.27)\n",
      "8.83\t\t220.70\t\t-0.00\n",
      "\n",
      "Trajetória do projétil 2 (ângulo: 60.0 graus):\n",
      "Tempo (s)\tTrajetória 1 (X, Y)\t\tTrajetória 2 (X, Y)\n",
      "7.21\t\t(254.84, -0.00)\t\t(180.20, 57.27)\n",
      "8.83\t\t220.70\t\t-0.00\n"
     ]
    }
   ],
   "source": [
    "# Lista de ângulos para os dois projéteis\n",
    "angulos = [angulo, float(input(\"Digite o segundo ângulo (graus): \"))]  # Convertendo o segundo ângulo para float\n",
    "\n",
    "# Armazenar trajetórias\n",
    "trajetorias = []\n",
    "\n",
    "for ang in angulos:\n",
    "    # Conversão do ângulo para radianos\n",
    "    ang_rad = math.radians(ang)\n",
    "\n",
    "    # Componentes da velocidade inicial\n",
    "    v0x = v0 * math.cos(ang_rad)\n",
    "    v0y = v0 * math.sin(ang_rad)\n",
    "\n",
    "    # Cálculo iterativo das posições\n",
    "    t = 0\n",
    "    x = 0\n",
    "    y = 0\n",
    "    trajetoria = []\n",
    "\n",
    "    while y >= 0:\n",
    "        x = v0x * t\n",
    "        y = v0y * t - 0.5 * g * t**2\n",
    "        trajetoria.append((t, x, y))\n",
    "        t += delta_t\n",
    "\n",
    "    trajetorias.append(trajetoria)\n",
    "\n",
    "# Exibir as trajetórias\n",
    "for i, trajetoria in enumerate(trajetorias):\n",
    "\n",
    "    print(f\"\\nTrajetória do projétil {i + 1} (ângulo: {angulos[i]} graus):\")\n",
    "    # Criar tabela com as trajetórias lado a lado\n",
    "    print(\"Tempo (s)\\tTrajetória 1 (X, Y)\\t\\tTrajetória 2 (X, Y)\")\n",
    "    print(f\"{ponto1[0]:.2f}\\t\\t({ponto1[1]:.2f}, {ponto1[2]:.2f})\\t\\t({ponto2[1]:.2f}, {ponto2[2]:.2f})\")\n",
    "    print(f\"{ponto[0]:.2f}\\t\\t{ponto[1]:.2f}\\t\\t{ponto[2]:.2f}\")"
   ]
  },
  {
   "cell_type": "markdown",
   "metadata": {},
   "source": [
    "![alt text](fluxoq2b.png)"
   ]
  },
  {
   "cell_type": "markdown",
   "metadata": {},
   "source": [
    "Item C"
   ]
  },
  {
   "cell_type": "code",
   "execution_count": 35,
   "metadata": {},
   "outputs": [
    {
     "name": "stdout",
     "output_type": "stream",
     "text": [
      "O projétil 1 foi mais longe, alcançando uma posição final x de 254.84 metros.\n"
     ]
    }
   ],
   "source": [
    "# Comparar as posições finais x dos dois projéteis\n",
    "if x_finais[0] > x_finais[1]:\n",
    "    print(f\"O projétil 1 foi mais longe, alcançando uma posição final x de {x_finais[0]:.2f} metros.\")\n",
    "elif x_finais[0] < x_finais[1]:\n",
    "    print(f\"O projétil 2 foi mais longe, alcançando uma posição final x de {x_finais[1]:.2f} metros.\")\n",
    "else:\n",
    "    print(f\"Ambos os projéteis alcançaram a mesma posição final x de {x_finais[0]:.2f} metros.\")"
   ]
  },
  {
   "cell_type": "markdown",
   "metadata": {},
   "source": [
    "![alt text](fluxoq2c.png)"
   ]
  }
 ],
 "metadata": {
  "kernelspec": {
   "display_name": "base",
   "language": "python",
   "name": "python3"
  },
  "language_info": {
   "codemirror_mode": {
    "name": "ipython",
    "version": 3
   },
   "file_extension": ".py",
   "mimetype": "text/x-python",
   "name": "python",
   "nbconvert_exporter": "python",
   "pygments_lexer": "ipython3",
   "version": "3.12.7"
  }
 },
 "nbformat": 4,
 "nbformat_minor": 2
}
